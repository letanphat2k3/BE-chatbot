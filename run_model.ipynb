{
 "cells": [
  {
   "cell_type": "code",
   "execution_count": null,
   "metadata": {
    "vscode": {
     "languageId": "plaintext"
    }
   },
   "outputs": [],
   "source": [
    "!pip install fastapi uvicorn nest-asyncio pyngrok qwen-vl-utils transformers accelerate flash-attn yt-dlp --no-build-isolation -q\n"
   ]
  },
  {
   "cell_type": "code",
   "execution_count": null,
   "metadata": {
    "vscode": {
     "languageId": "plaintext"
    }
   },
   "outputs": [],
   "source": [
    "# Đăng nhập ngrok bằng userdata\n",
    "from google.colab import userdata\n",
    "from pyngrok import ngrok\n",
    "\n",
    "ngrok_token = userdata.get(\"ngrok_token\")\n",
    "ngrok.set_auth_token(ngrok_token)\n",
    "\n",
    "# Khởi tạo public URL cho cổng 8000\n",
    "public_url = ngrok.connect(8000)\n",
    "print(f\"✅ Public URL: {public_url}\")"
   ]
  },
  {
   "cell_type": "code",
   "execution_count": null,
   "metadata": {
    "vscode": {
     "languageId": "plaintext"
    }
   },
   "outputs": [],
   "source": [
    "import nest_asyncio\n",
    "import uvicorn\n",
    "\n",
    "nest_asyncio.apply()\n",
    "uvicorn.run(\"api:app\", host=\"0.0.0.0\", port=8000)"
   ]
  }
 ],
 "metadata": {
  "language_info": {
   "name": "python"
  }
 },
 "nbformat": 4,
 "nbformat_minor": 2
}
